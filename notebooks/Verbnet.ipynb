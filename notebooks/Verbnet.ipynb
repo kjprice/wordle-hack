{
 "cells": [
  {
   "cell_type": "markdown",
   "id": "20bab832",
   "metadata": {},
   "source": [
    "https://www.nltk.org/howto/corpus.html#verbnet-corpus-reader"
   ]
  },
  {
   "cell_type": "code",
   "execution_count": 1,
   "id": "4b5489c9",
   "metadata": {},
   "outputs": [],
   "source": [
    "from nltk.corpus import verbnet"
   ]
  },
  {
   "cell_type": "code",
   "execution_count": 3,
   "id": "e3f01ee2",
   "metadata": {},
   "outputs": [
    {
     "name": "stdout",
     "output_type": "stream",
     "text": [
      "VERBNET LEXICON, VERSION 2.1\n",
      "\n",
      "VerbNet (VN) (Kipper-Schuler 2006) is the largest on-line verb lexicon\n",
      "currently available for English. It is a hierarchical\n",
      "domain-independent, broad-coverage verb lexicon with mappings to other\n",
      "lexical resources such as WordNet (Miller, 1990; Fellbaum, 1998), Xtag\n",
      "(XTAG Research Group, 2001), and FrameNet (Baker et al.,\n",
      "1998). VerbNet is organized into verb classes extending Levin (1993)\n",
      "classes through refinement and addition of subclasses to achieve\n",
      "syntactic and semantic coherence among members of a class. Each verb\n",
      "class in VN is completely described by thematic roles, selectional\n",
      "restrictions on the arguments, and frames consisting of a syntactic\n",
      "description and semantic predicates with a temporal function, in a\n",
      "manner similar to the event decomposition of Moens and Steedman\n",
      "(1988).\n",
      "\n",
      "http://verbs.colorado.edu/~mpalmer/projects/verbnet.html\n",
      "\n",
      "\n"
     ]
    }
   ],
   "source": [
    "print(verbnet.readme())"
   ]
  },
  {
   "cell_type": "code",
   "execution_count": 17,
   "id": "d809e5ca",
   "metadata": {},
   "outputs": [
    {
     "data": {
      "text/plain": [
       "['force-59-1']"
      ]
     },
     "execution_count": 17,
     "metadata": {},
     "output_type": "execute_result"
    }
   ],
   "source": [
    "verbnet.classids(lemma='lure')"
   ]
  },
  {
   "cell_type": "code",
   "execution_count": 2,
   "id": "b300dbf6",
   "metadata": {},
   "outputs": [
    {
     "data": {
      "text/plain": [
       "['accompany-51.7.xml',\n",
       " 'admire-31.2.xml',\n",
       " 'admit-65.xml',\n",
       " 'adopt-93.xml',\n",
       " 'advise-37.9.xml',\n",
       " 'allow-64.xml',\n",
       " 'amalgamate-22.2.xml',\n",
       " 'amuse-31.1.xml',\n",
       " 'animal_sounds-38.xml',\n",
       " 'appeal-31.4.xml']"
      ]
     },
     "execution_count": 2,
     "metadata": {},
     "output_type": "execute_result"
    }
   ],
   "source": [
    "verbnet.fileids()[0:10]"
   ]
  },
  {
   "cell_type": "code",
   "execution_count": 4,
   "id": "606da159",
   "metadata": {},
   "outputs": [
    {
     "data": {
      "text/plain": [
       "['Jackie',\n",
       " 'accompanied',\n",
       " 'Rose',\n",
       " '.',\n",
       " 'Jackie',\n",
       " 'accompanied',\n",
       " 'Rose',\n",
       " 'to',\n",
       " 'the',\n",
       " 'store',\n",
       " '.']"
      ]
     },
     "execution_count": 4,
     "metadata": {},
     "output_type": "execute_result"
    }
   ],
   "source": [
    "verbnet.words('accompany-51.7.xml')"
   ]
  },
  {
   "cell_type": "code",
   "execution_count": 6,
   "id": "c86a59e2",
   "metadata": {},
   "outputs": [
    {
     "data": {
      "text/plain": [
       "['accompany-51.7',\n",
       " 'admire-31.2',\n",
       " 'admire-31.2-1',\n",
       " 'admit-65',\n",
       " 'adopt-93',\n",
       " 'advise-37.9',\n",
       " 'advise-37.9-1',\n",
       " 'allow-64',\n",
       " 'amalgamate-22.2',\n",
       " 'amalgamate-22.2-1']"
      ]
     },
     "execution_count": 6,
     "metadata": {},
     "output_type": "execute_result"
    }
   ],
   "source": [
    "verbnet.classids()[:10]"
   ]
  },
  {
   "cell_type": "code",
   "execution_count": 7,
   "id": "9b67cac0",
   "metadata": {},
   "outputs": [],
   "source": [
    "def print_methods(obj):\n",
    "    for method_name in dir(obj):\n",
    "        if method_name[0] != '_':\n",
    "            print(method_name)"
   ]
  },
  {
   "cell_type": "code",
   "execution_count": 8,
   "id": "bcf11baa",
   "metadata": {},
   "outputs": [
    {
     "name": "stdout",
     "output_type": "stream",
     "text": [
      "abspath\n",
      "abspaths\n",
      "citation\n",
      "classids\n",
      "encoding\n",
      "ensure_loaded\n",
      "fileids\n",
      "lemmas\n",
      "license\n",
      "longid\n",
      "open\n",
      "pprint\n",
      "pprint_description\n",
      "pprint_frame\n",
      "pprint_members\n",
      "pprint_semantics\n",
      "pprint_subclasses\n",
      "pprint_syntax\n",
      "pprint_themroles\n",
      "raw\n",
      "readme\n",
      "root\n",
      "shortid\n",
      "unicode_repr\n",
      "vnclass\n",
      "wordnetids\n",
      "words\n",
      "xml\n"
     ]
    }
   ],
   "source": [
    "print_methods(verbnet)"
   ]
  },
  {
   "cell_type": "code",
   "execution_count": 15,
   "id": "0cd06a8d",
   "metadata": {},
   "outputs": [
    {
     "data": {
      "text/plain": [
       "['allure', 'lure']"
      ]
     },
     "execution_count": 15,
     "metadata": {},
     "output_type": "execute_result"
    }
   ],
   "source": [
    "[lem for lem in verbnet.lemmas() if 'lure' in lem]"
   ]
  },
  {
   "cell_type": "code",
   "execution_count": 10,
   "id": "03ee0d8d",
   "metadata": {},
   "outputs": [
    {
     "ename": "NameError",
     "evalue": "name 'words' is not defined",
     "output_type": "error",
     "traceback": [
      "\u001b[0;31m---------------------------------------------------------------------------\u001b[0m",
      "\u001b[0;31mNameError\u001b[0m                                 Traceback (most recent call last)",
      "\u001b[0;32m<ipython-input-10-730c51b3e7e0>\u001b[0m in \u001b[0;36m<module>\u001b[0;34m\u001b[0m\n\u001b[0;32m----> 1\u001b[0;31m \u001b[0mwords\u001b[0m\u001b[0;34m\u001b[0m\u001b[0;34m\u001b[0m\u001b[0m\n\u001b[0m",
      "\u001b[0;31mNameError\u001b[0m: name 'words' is not defined"
     ]
    }
   ],
   "source": [
    "words"
   ]
  }
 ],
 "metadata": {
  "kernelspec": {
   "display_name": "directml",
   "language": "python",
   "name": "directml"
  },
  "language_info": {
   "codemirror_mode": {
    "name": "ipython",
    "version": 3
   },
   "file_extension": ".py",
   "mimetype": "text/x-python",
   "name": "python",
   "nbconvert_exporter": "python",
   "pygments_lexer": "ipython3",
   "version": "3.6.13"
  }
 },
 "nbformat": 4,
 "nbformat_minor": 5
}
