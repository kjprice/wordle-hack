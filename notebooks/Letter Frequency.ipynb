{
 "cells": [
  {
   "cell_type": "code",
   "execution_count": 5,
   "metadata": {},
   "outputs": [],
   "source": [
    "import os\n",
    "\n",
    "import pandas as pd"
   ]
  },
  {
   "cell_type": "code",
   "execution_count": 2,
   "metadata": {},
   "outputs": [],
   "source": [
    "if not os.path.exists('python'):\n",
    "    os.chdir('..')"
   ]
  },
  {
   "cell_type": "code",
   "execution_count": 3,
   "metadata": {},
   "outputs": [],
   "source": [
    "def read_word_counts():\n",
    "    with open('words_counts.txt', 'r') as f:\n",
    "        return f.read()"
   ]
  },
  {
   "cell_type": "code",
   "execution_count": 4,
   "metadata": {},
   "outputs": [],
   "source": []
  },
  {
   "cell_type": "code",
   "execution_count": 57,
   "metadata": {},
   "outputs": [],
   "source": [
    "def create_df():\n",
    "    word_counts_text = read_word_counts()\n",
    "    words_counts_list = []\n",
    "    for words_count_line in word_counts_text.strip().split('\\n'):\n",
    "        word, count = words_count_line.split(' ')\n",
    "        words_counts_list.append({\n",
    "            'word': word,\n",
    "            'count': int(count)\n",
    "        })\n",
    "    return pd.DataFrame(words_counts_list)\n",
    "df = create_df()"
   ]
  },
  {
   "cell_type": "code",
   "execution_count": 58,
   "metadata": {},
   "outputs": [],
   "source": [
    "from collections import Counter"
   ]
  },
  {
   "cell_type": "code",
   "execution_count": 59,
   "metadata": {},
   "outputs": [],
   "source": [
    "# import re\n",
    "# re.sub('[^a-z]*', '', 'kj _asd 123ksdf')"
   ]
  },
  {
   "cell_type": "code",
   "execution_count": 60,
   "metadata": {},
   "outputs": [],
   "source": [
    "c = Counter()\n",
    "for word in df.word:\n",
    "    c.update(word)\n",
    "#     break"
   ]
  },
  {
   "cell_type": "code",
   "execution_count": 61,
   "metadata": {},
   "outputs": [],
   "source": [
    "# c.update('kj')"
   ]
  },
  {
   "cell_type": "code",
   "execution_count": 62,
   "metadata": {},
   "outputs": [
    {
     "data": {
      "text/plain": [
       "Counter({'w': 969,\n",
       "         'h': 1877,\n",
       "         'i': 4100,\n",
       "         'c': 2144,\n",
       "         't': 3305,\n",
       "         'e': 6035,\n",
       "         'r': 4126,\n",
       "         'a': 6916,\n",
       "         'b': 1701,\n",
       "         'o': 4114,\n",
       "         'u': 2774,\n",
       "         'l': 3442,\n",
       "         'd': 2228,\n",
       "         'm': 1972,\n",
       "         'v': 668,\n",
       "         's': 4391,\n",
       "         'f': 972,\n",
       "         'g': 1580,\n",
       "         'n': 3316,\n",
       "         'y': 2042,\n",
       "         'k': 1418,\n",
       "         'p': 1926,\n",
       "         'q': 116,\n",
       "         'j': 294,\n",
       "         'z': 389,\n",
       "         'x': 340})"
      ]
     },
     "execution_count": 62,
     "metadata": {},
     "output_type": "execute_result"
    }
   ],
   "source": [
    "c"
   ]
  },
  {
   "cell_type": "code",
   "execution_count": 51,
   "metadata": {},
   "outputs": [
    {
     "data": {
      "text/plain": [
       "['']"
      ]
     },
     "execution_count": 51,
     "metadata": {},
     "output_type": "execute_result"
    }
   ],
   "source": [
    "re.split('[^a-z]*', '')"
   ]
  },
  {
   "cell_type": "code",
   "execution_count": 56,
   "metadata": {},
   "outputs": [],
   "source": [
    "re.search('^[a-z]+$', 'wat_ch')"
   ]
  }
 ],
 "metadata": {
  "kernelspec": {
   "display_name": "Python 3",
   "language": "python",
   "name": "python3"
  },
  "language_info": {
   "codemirror_mode": {
    "name": "ipython",
    "version": 3
   },
   "file_extension": ".py",
   "mimetype": "text/x-python",
   "name": "python",
   "nbconvert_exporter": "python",
   "pygments_lexer": "ipython3",
   "version": "3.6.8"
  }
 },
 "nbformat": 4,
 "nbformat_minor": 2
}
