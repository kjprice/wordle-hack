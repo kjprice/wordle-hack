{
 "cells": [
  {
   "cell_type": "code",
   "execution_count": 1,
   "metadata": {},
   "outputs": [],
   "source": [
    "%matplotlib inline"
   ]
  },
  {
   "cell_type": "code",
   "execution_count": 52,
   "metadata": {},
   "outputs": [],
   "source": [
    "import os\n",
    "\n",
    "import numpy as np\n",
    "import pandas as pd"
   ]
  },
  {
   "cell_type": "code",
   "execution_count": 18,
   "metadata": {},
   "outputs": [],
   "source": [
    "WORDS_COUNTS_FILEPATH = os.path.join('hack_wordle_ui', 'public', 'words_counts.txt')"
   ]
  },
  {
   "cell_type": "code",
   "execution_count": 22,
   "metadata": {},
   "outputs": [],
   "source": [
    "MAX_WORD_LENGTH = 5"
   ]
  },
  {
   "cell_type": "code",
   "execution_count": 4,
   "metadata": {},
   "outputs": [],
   "source": [
    "if not os.path.exists('python'):\n",
    "    os.chdir('..')"
   ]
  },
  {
   "cell_type": "code",
   "execution_count": 5,
   "metadata": {},
   "outputs": [],
   "source": [
    "def read_word_counts():\n",
    "    with open(WORDS_COUNTS_FILEPATH, 'r') as f:\n",
    "        return f.read()"
   ]
  },
  {
   "cell_type": "code",
   "execution_count": null,
   "metadata": {},
   "outputs": [],
   "source": []
  },
  {
   "cell_type": "code",
   "execution_count": 6,
   "metadata": {},
   "outputs": [],
   "source": [
    "def create_df():\n",
    "    word_counts_text = read_word_counts()\n",
    "    words_counts_list = []\n",
    "    for words_count_line in word_counts_text.strip().split('\\n'):\n",
    "        word, count = words_count_line.split(' ')\n",
    "        words_counts_list.append({\n",
    "            'word': word,\n",
    "            'count': int(count)\n",
    "        })\n",
    "    return pd.DataFrame(words_counts_list)\n",
    "df = create_df()"
   ]
  },
  {
   "cell_type": "code",
   "execution_count": 7,
   "metadata": {},
   "outputs": [],
   "source": [
    "from collections import Counter"
   ]
  },
  {
   "cell_type": "code",
   "execution_count": 103,
   "metadata": {},
   "outputs": [],
   "source": [
    "c = Counter()\n",
    "for word in df.word:\n",
    "    c.update(word)\n",
    "#     break"
   ]
  },
  {
   "cell_type": "code",
   "execution_count": 12,
   "metadata": {},
   "outputs": [],
   "source": [
    "letters = sorted(c.keys())"
   ]
  },
  {
   "cell_type": "code",
   "execution_count": 13,
   "metadata": {},
   "outputs": [],
   "source": [
    "counts_list = []\n",
    "for letter in letters:\n",
    "    counts_list.append({\n",
    "        'letter': letter,\n",
    "        'counts': c[letter]\n",
    "    })\n",
    "df_counts = pd.DataFrame(counts_list)"
   ]
  },
  {
   "cell_type": "code",
   "execution_count": 14,
   "metadata": {},
   "outputs": [
    {
     "data": {
      "text/plain": [
       "<AxesSubplot:xlabel='letter'>"
      ]
     },
     "execution_count": 14,
     "metadata": {},
     "output_type": "execute_result"
    },
    {
     "data": {
      "image/png": "[encoded data removed]",
      "text/plain": [
       "<Figure size 432x288 with 1 Axes>"
      ]
     },
     "metadata": {
      "needs_background": "light"
     },
     "output_type": "display_data"
    }
   ],
   "source": [
    "df_counts.plot.bar(x='letter', y='counts')"
   ]
  },
  {
   "cell_type": "markdown",
   "metadata": {},
   "source": [
    "### Get Letter Position Frequencies"
   ]
  },
  {
   "cell_type": "code",
   "execution_count": 32,
   "metadata": {},
   "outputs": [],
   "source": [
    "LIMIT = 100000000000"
   ]
  },
  {
   "cell_type": "code",
   "execution_count": 33,
   "metadata": {},
   "outputs": [],
   "source": [
    "letter_positions = {}\n",
    "for letter in letters:\n",
    "    letter_positions[letter] = [0] * MAX_WORD_LENGTH\n"
   ]
  },
  {
   "cell_type": "code",
   "execution_count": 102,
   "metadata": {},
   "outputs": [],
   "source": [
    "for word in df.word.head(LIMIT):\n",
    "    for i, letter in enumerate(word):\n",
    "        letter_positions[letter][i] += 1\n",
    "# letter_positions"
   ]
  },
  {
   "cell_type": "code",
   "execution_count": null,
   "metadata": {},
   "outputs": [],
   "source": []
  },
  {
   "cell_type": "code",
   "execution_count": 90,
   "metadata": {},
   "outputs": [],
   "source": [
    "def letter_position_percent(row):\n",
    "    total = np.sum(row)\n",
    "    return row / total\n",
    "\n",
    "#letter_positions_df.apply(letter_position_percent, axis=1)"
   ]
  },
  {
   "cell_type": "code",
   "execution_count": 101,
   "metadata": {},
   "outputs": [
    {
     "data": {
      "text/plain": [
       "<AxesSubplot:>"
      ]
     },
     "execution_count": 101,
     "metadata": {},
     "output_type": "execute_result"
    },
    {
     "data": {
      "image/png": "[encoded data removed]",
      "text/plain": [
       "<Figure size 720x360 with 1 Axes>"
      ]
     },
     "metadata": {
      "needs_background": "light"
     },
     "output_type": "display_data"
    }
   ],
   "source": [
    "letter_positions_df = pd.DataFrame(letter_positions)\n",
    "letter_positions_df = letter_positions_df.T\n",
    "# letter_positions_df['letter']  = letter_positions_df.index\n",
    "# letter_positions_df = letter_positions_df.reset_index(drop=True)\n",
    "letter_positions_df = letter_positions_df.apply(letter_position_percent, axis=1)\n",
    "# letter_positions_df.sort_index(ascending=False).plot.barh(stacked=True, figsize=(10, 5))\n",
    "letter_positions_df.sort_values([0, 1, 2, 3, 4]).plot.barh(stacked=True, figsize=(10, 5))\n",
    "\n"
   ]
  },
  {
   "cell_type": "markdown",
   "metadata": {},
   "source": [
    "### Score Words Based On Letter Positions"
   ]
  },
  {
   "cell_type": "code",
   "execution_count": 107,
   "metadata": {},
   "outputs": [],
   "source": [
    "def get_word_score(word):\n",
    "    letters_already_found = set()\n",
    "    score = 0\n",
    "    for i, letter in enumerate(word):\n",
    "        if not letter in letters_already_found:\n",
    "            score += letter_positions[letter][i]\n",
    "        letters_already_found.add(letter)\n",
    "    return score"
   ]
  },
  {
   "cell_type": "code",
   "execution_count": 111,
   "metadata": {},
   "outputs": [],
   "source": [
    "word_scores = []\n",
    "\n",
    "# TODO This ignores duplicate letters\n",
    "for word in df.word:\n",
    "    word_scores.append({\n",
    "        'word': word,\n",
    "        'score': get_word_score(word)\n",
    "    })\n",
    "word_scores_df = pd.DataFrame(word_scores)\n",
    "word_scores_df.sort_values('score', ascending=False, inplace=True)"
   ]
  },
  {
   "cell_type": "code",
   "execution_count": 132,
   "metadata": {},
   "outputs": [
    {
     "data": {
      "text/html": [
       "<div>\n",
       "<style scoped>\n",
       "    .dataframe tbody tr th:only-of-type {\n",
       "        vertical-align: middle;\n",
       "    }\n",
       "\n",
       "    .dataframe tbody tr th {\n",
       "        vertical-align: top;\n",
       "    }\n",
       "\n",
       "    .dataframe thead th {\n",
       "        text-align: right;\n",
       "    }\n",
       "</style>\n",
       "<table border=\"1\" class=\"dataframe\">\n",
       "  <thead>\n",
       "    <tr style=\"text-align: right;\">\n",
       "      <th></th>\n",
       "      <th>score</th>\n",
       "      <th>word</th>\n",
       "    </tr>\n",
       "  </thead>\n",
       "  <tbody>\n",
       "    <tr>\n",
       "      <th>3195</th>\n",
       "      <td>15828</td>\n",
       "      <td>bares</td>\n",
       "    </tr>\n",
       "    <tr>\n",
       "      <th>486</th>\n",
       "      <td>15828</td>\n",
       "      <td>cares</td>\n",
       "    </tr>\n",
       "    <tr>\n",
       "      <th>11292</th>\n",
       "      <td>15656</td>\n",
       "      <td>tares</td>\n",
       "    </tr>\n",
       "    <tr>\n",
       "      <th>9334</th>\n",
       "      <td>15528</td>\n",
       "      <td>pares</td>\n",
       "    </tr>\n",
       "    <tr>\n",
       "      <th>5221</th>\n",
       "      <td>15392</td>\n",
       "      <td>canes</td>\n",
       "    </tr>\n",
       "  </tbody>\n",
       "</table>\n",
       "</div>"
      ],
      "text/plain": [
       "       score   word\n",
       "3195   15828  bares\n",
       "486    15828  cares\n",
       "11292  15656  tares\n",
       "9334   15528  pares\n",
       "5221   15392  canes"
      ]
     },
     "execution_count": 132,
     "metadata": {},
     "output_type": "execute_result"
    }
   ],
   "source": [
    "word_scores_df.head()"
   ]
  },
  {
   "cell_type": "markdown",
   "metadata": {},
   "source": [
    "### Score Multiple Words Together"
   ]
  },
  {
   "cell_type": "code",
   "execution_count": 127,
   "metadata": {},
   "outputs": [],
   "source": [
    "a = {1,2}\n",
    "b = {4,3}"
   ]
  },
  {
   "cell_type": "code",
   "execution_count": 128,
   "metadata": {},
   "outputs": [
    {
     "data": {
      "text/plain": [
       "True"
      ]
     },
     "execution_count": 128,
     "metadata": {},
     "output_type": "execute_result"
    }
   ],
   "source": [
    "b - a == b"
   ]
  },
  {
   "cell_type": "code",
   "execution_count": 121,
   "metadata": {},
   "outputs": [
    {
     "data": {
      "text/plain": [
       "<AxesSubplot:ylabel='Frequency'>"
      ]
     },
     "execution_count": 121,
     "metadata": {},
     "output_type": "execute_result"
    },
    {
     "data": {
      "image/png": "[encoded data removed]",
      "text/plain": [
       "<Figure size 432x288 with 1 Axes>"
      ]
     },
     "metadata": {
      "needs_background": "light"
     },
     "output_type": "display_data"
    }
   ],
   "source": [
    "word_scores_df.score.plot.hist()"
   ]
  },
  {
   "cell_type": "code",
   "execution_count": 149,
   "metadata": {},
   "outputs": [],
   "source": [
    "LIMIT = 1000\n",
    "high_scores_df = word_scores_df.head(LIMIT).copy()\n",
    "high_scores_df['word_set'] = high_scores_df.word.apply(lambda w: set(w))"
   ]
  },
  {
   "cell_type": "code",
   "execution_count": 151,
   "metadata": {},
   "outputs": [
    {
     "data": {
      "text/plain": [
       "1000"
      ]
     },
     "execution_count": 151,
     "metadata": {},
     "output_type": "execute_result"
    }
   ],
   "source": [
    "len(high_scores_df)"
   ]
  },
  {
   "cell_type": "code",
   "execution_count": 175,
   "metadata": {},
   "outputs": [
    {
     "data": {
      "text/plain": [
       "True"
      ]
     },
     "execution_count": 175,
     "metadata": {},
     "output_type": "execute_result"
    }
   ],
   "source": [
    "{1, 2} - {3} == {1, 2}"
   ]
  },
  {
   "cell_type": "code",
   "execution_count": 177,
   "metadata": {},
   "outputs": [],
   "source": [
    "def find_matches(ignore_index, current_word_set):\n",
    "    matches = []\n",
    "    for i, word_row in enumerate(high_scores_df.itertuples()):\n",
    "#         print(word_row)\n",
    "        if i != ignore_index:\n",
    "#             print(i, word_row.word_set)\n",
    "            \n",
    "            word_diff = current_word_set - word_row.word_set\n",
    "            if word_diff == current_word_set:\n",
    "                matches.append(word_row)\n",
    "    return matches"
   ]
  },
  {
   "cell_type": "code",
   "execution_count": 186,
   "metadata": {},
   "outputs": [],
   "source": [
    "def highest_score_matches(word_matches):\n",
    "    highest_score_word_match = None\n",
    "    for i, word_match in enumerate(word_matches):\n",
    "        if highest_score_word_match is None or word_match.score > highest_score_word_match.score:\n",
    "            highest_score_word_match = word_match\n",
    "    return highest_score_word_match\n",
    "        "
   ]
  },
  {
   "cell_type": "code",
   "execution_count": 198,
   "metadata": {},
   "outputs": [],
   "source": [
    "word_groups = []\n",
    "for i, word_row in enumerate(high_scores_df.itertuples()):\n",
    "    word_set = word_row.word_set\n",
    "    word_matches = find_matches(i, word_set)\n",
    "    best_match = highest_score_matches(word_matches)\n",
    "    if best_match is not None:\n",
    "        word_groups.append({\n",
    "            'word1': word_row.word,\n",
    "            'word2': best_match.word,\n",
    "            'score': word_row.score + best_match.score\n",
    "        })\n"
   ]
  },
  {
   "cell_type": "code",
   "execution_count": 199,
   "metadata": {},
   "outputs": [],
   "source": [
    "highest_scoring_groups = sorted(word_groups, key = lambda row: row['score'], reverse=True)"
   ]
  },
  {
   "cell_type": "code",
   "execution_count": 200,
   "metadata": {
    "scrolled": true
   },
   "outputs": [
    {
     "data": {
      "text/plain": [
       "[{'word1': 'baris', 'word2': 'coney', 'score': 28060},\n",
       " {'word1': 'coney', 'word2': 'baris', 'score': 28060},\n",
       " {'word1': 'taney', 'word2': 'boris', 'score': 27888},\n",
       " {'word1': 'boris', 'word2': 'taney', 'score': 27888},\n",
       " {'word1': 'paris', 'word2': 'boney', 'score': 27760},\n",
       " {'word1': 'boney', 'word2': 'paris', 'score': 27760},\n",
       " {'word1': 'poney', 'word2': 'baris', 'score': 27760},\n",
       " {'word1': 'corey', 'word2': 'talis', 'score': 27624},\n",
       " {'word1': 'talis', 'word2': 'corey', 'score': 27624},\n",
       " {'word1': 'maney', 'word2': 'boris', 'score': 27570}]"
      ]
     },
     "execution_count": 200,
     "metadata": {},
     "output_type": "execute_result"
    }
   ],
   "source": [
    "highest_scoring_groups[:10]"
   ]
  },
  {
   "cell_type": "code",
   "execution_count": null,
   "metadata": {
    "collapsed": true
   },
   "outputs": [],
   "source": [
    "word_sets_matches = []"
   ]
  }
 ],
 "metadata": {
  "kernelspec": {
   "display_name": "Python 3",
   "language": "python",
   "name": "python3"
  },
  "language_info": {
   "codemirror_mode": {
    "name": "ipython",
    "version": 3
   },
   "file_extension": ".py",
   "mimetype": "text/x-python",
   "name": "python",
   "nbconvert_exporter": "python",
   "pygments_lexer": "ipython3",
   "version": "3.6.8"
  }
 },
 "nbformat": 4,
 "nbformat_minor": 2
}
